{
 "cells": [
  {
   "cell_type": "markdown",
   "metadata": {},
   "source": [
    "# Evaluating AIWC metrics between Cuda and OpenCL"
   ]
  },
  {
   "cell_type": "markdown",
   "metadata": {},
   "source": [
    "We present an evaluation of the change in AIWC metrics between Cuda and OpenCL implementations of the same algorithm.\n",
    "OpenCL and Cuda codes are selected from the [Rodinia Benchmark Suite](https://github.com/BeauJoh/rodinia.git) which was chosen because it's original goal was as a comparison between languages on heterogenous computing architectures. Presently it boasts Cuda, OpenCL, OpenMP and OpenACC versions of several application codes.\n",
    "\n",
    "cocl -- as part of [coriander](https://github.com/hughperkins/coriander.git) -- is used to perform the translation of Cuda to OpenCL codes.\n"
   ]
  },
  {
   "cell_type": "markdown",
   "metadata": {},
   "source": [
    "## Set environment variables"
   ]
  },
  {
   "cell_type": "code",
   "execution_count": 12,
   "metadata": {},
   "outputs": [
    {
     "name": "stdout",
     "output_type": "stream",
     "text": [
      "env: COCL=/root/coriander/bin/cocl\n",
      "env: NVCC=/usr/local/cuda/bin/nvcc\n"
     ]
    }
   ],
   "source": [
    "%env COCL=/root/coriander/bin/cocl\n",
    "%env NVCC=/usr/local/cuda/bin/nvcc"
   ]
  },
  {
   "cell_type": "markdown",
   "metadata": {},
   "source": [
    "## Compile Cuda code using standard nvidia compiler "
   ]
  },
  {
   "cell_type": "code",
   "execution_count": 20,
   "metadata": {},
   "outputs": [],
   "source": [
    "! $NVCC ./gaussian_cuda_version/gaussian.cu -o gaussian_cuda"
   ]
  },
  {
   "cell_type": "markdown",
   "metadata": {},
   "source": [
    "## Compile OpenCL version of the Cuda code using cocl"
   ]
  },
  {
   "cell_type": "code",
   "execution_count": 21,
   "metadata": {},
   "outputs": [
    {
     "name": "stdout",
     "output_type": "stream",
     "text": [
      "\n",
      "WARNING: `cocl` is deprecated, and will be removed in a future release\n",
      "Please use: `cocl_py`, which is easier to maintain, and portable\n",
      "\n",
      "cocl args: ./gaussian_cuda_version/gaussian.cu -o gaussian_opencl\n",
      "LLVM_COMPILE_FLAGS -I/coriander/coriander/soft/llvm-4.0/include -D_GNU_SOURCE -D__STDC_CONSTANT_MACROS -D__STDC_FORMAT_MACROS -D__STDC_LIMIT_MACROS -I/coriander/coriander/soft/llvm-4.0/include -fPIC -fvisibility-inlines-hidden -Wall -W -Wno-unused-parameter -Wwrite-strings -Wcast-qual -Wmissing-field-initializers -pedantic -Wno-long-long -Wcovered-switch-default -Wnon-virtual-dtor -Wdelete-non-virtual-dtor -Wstring-conversion -Werror=date-time -std=c++11 -ffunction-sections -fdata-sections -fexceptions -D_GNU_SOURCE -D__STDC_CONSTANT_MACROS -D__STDC_FORMAT_MACROS -D__STDC_LIMIT_MACROS\n",
      "+ /coriander/coriander/soft/llvm-4.0/bin/clang++ -DUSE_CLEW -std=c++11 -x cuda -D__CORIANDERCC__ -D__CUDACC__ --cuda-gpu-arch=sm_30 -nocudalib -nocudainc --cuda-device-only -emit-llvm -O2 -S -Wno-gnu-anonymous-struct -Wno-nested-anon-types -I/coriander/coriander/soft/llvm-4.0/include -D_GNU_SOURCE -D__STDC_CONSTANT_MACROS -D__STDC_FORMAT_MACROS -D__STDC_LIMIT_MACROS -I/coriander/coriander/soft/llvm-4.0/include -fPIC -fvisibility-inlines-hidden -Wall -W -Wno-unused-parameter -Wwrite-strings -Wcast-qual -Wmissing-field-initializers -pedantic -Wno-long-long -Wcovered-switch-default -Wnon-virtual-dtor -Wdelete-non-virtual-dtor -Wstring-conversion -Werror=date-time -std=c++11 -ffunction-sections -fdata-sections -fexceptions -D_GNU_SOURCE -D__STDC_CONSTANT_MACROS -D__STDC_FORMAT_MACROS -D__STDC_LIMIT_MACROS -I/root/coriander/include/EasyCL -I/root/coriander/include/cocl -include /root/coriander/include/cocl/cocl.h -include /root/coriander/include/cocl/fake_funcs.h -include /root/coriander/include/cocl/cocl_deviceside.h -I/root/coriander/include ./gaussian_cuda_version/gaussian.cu -o ./gaussian_opencl-device-noopt.ll\n",
      "\u001b[1m./gaussian_cuda_version/gaussian.cu:212:43: \u001b[0m\u001b[0;1;35mwarning: \u001b[0m\u001b[1mcomparison of integers of\n",
      "      different signs: 'unsigned int' and 'int' [-Wsign-compare]\u001b[0m\n",
      "        if(threadIdx.x + blockIdx.x * blockDim.x >= Size-1-t) return;\n",
      "\u001b[0;1;32m           ~~~~~~~~~~~~~~~~~~~~~~~~~~~~~~~~~~~~~ ^  ~~~~~~~~\n",
      "\u001b[0m\u001b[1m./gaussian_cuda_version/gaussian.cu:223:43: \u001b[0m\u001b[0;1;35mwarning: \u001b[0m\u001b[1mcomparison of integers of\n",
      "      different signs: 'unsigned int' and 'int' [-Wsign-compare]\u001b[0m\n",
      "        if(threadIdx.x + blockIdx.x * blockDim.x >= Size-1-t) return;\n",
      "\u001b[0;1;32m           ~~~~~~~~~~~~~~~~~~~~~~~~~~~~~~~~~~~~~ ^  ~~~~~~~~\n",
      "\u001b[0m\u001b[1m./gaussian_cuda_version/gaussian.cu:224:43: \u001b[0m\u001b[0;1;35mwarning: \u001b[0m\u001b[1mcomparison of integers of\n",
      "      different signs: 'unsigned int' and 'int' [-Wsign-compare]\u001b[0m\n",
      "        if(threadIdx.y + blockIdx.y * blockDim.y >= Size-t) return;\n",
      "\u001b[0;1;32m           ~~~~~~~~~~~~~~~~~~~~~~~~~~~~~~~~~~~~~ ^  ~~~~~~\n",
      "\u001b[0m3 warnings generated.\n",
      "+ /coriander/coriander/soft/llvm-4.0/bin/opt -inline -mem2reg -instcombine -S -o ./gaussian_opencl-device.ll ./gaussian_opencl-device-noopt.ll\n",
      "+ /coriander/coriander/soft/llvm-4.0/bin/clang++ -DUSE_CLEW -std=c++11 -x cuda -nocudainc --cuda-host-only -emit-llvm -O2 -S -D__CUDACC__ -D__CORIANDERCC__ -Wno-gnu-anonymous-struct -Wno-nested-anon-types -I/coriander/coriander/soft/llvm-4.0/include -D_GNU_SOURCE -D__STDC_CONSTANT_MACROS -D__STDC_FORMAT_MACROS -D__STDC_LIMIT_MACROS -I/coriander/coriander/soft/llvm-4.0/include -fPIC -fvisibility-inlines-hidden -Wall -W -Wno-unused-parameter -Wwrite-strings -Wcast-qual -Wmissing-field-initializers -pedantic -Wno-long-long -Wcovered-switch-default -Wnon-virtual-dtor -Wdelete-non-virtual-dtor -Wstring-conversion -Werror=date-time -std=c++11 -ffunction-sections -fdata-sections -fexceptions -D_GNU_SOURCE -D__STDC_CONSTANT_MACROS -D__STDC_FORMAT_MACROS -D__STDC_LIMIT_MACROS -I/root/coriander/include -I/root/coriander/include/EasyCL -I/root/coriander/include/cocl -I/coriander/coriander/soft/llvm-4.0/include -D_GNU_SOURCE -D__STDC_CONSTANT_MACROS -D__STDC_FORMAT_MACROS -D__STDC_LIMIT_MACROS -I/coriander/coriander/soft/llvm-4.0/include -fPIC -fvisibility-inlines-hidden -Wall -W -Wno-unused-parameter -Wwrite-strings -Wcast-qual -Wmissing-field-initializers -pedantic -Wno-long-long -Wcovered-switch-default -Wnon-virtual-dtor -Wdelete-non-virtual-dtor -Wstring-conversion -Werror=date-time -std=c++11 -ffunction-sections -fdata-sections -fexceptions -D_GNU_SOURCE -D__STDC_CONSTANT_MACROS -D__STDC_FORMAT_MACROS -D__STDC_LIMIT_MACROS -include /root/coriander/include/cocl/cocl.h -include /root/coriander/include/cocl/fake_funcs.h -include /root/coriander/include/cocl/cocl_hostside.h ./gaussian_cuda_version/gaussian.cu -o ./gaussian_opencl-hostraw.ll\n",
      "\u001b[1m./gaussian_cuda_version/gaussian.cu:212:43: \u001b[0m\u001b[0;1;35mwarning: \u001b[0m\u001b[1mcomparison of integers of\n",
      "      different signs: 'unsigned int' and 'int' [-Wsign-compare]\u001b[0m\n",
      "        if(threadIdx.x + blockIdx.x * blockDim.x >= Size-1-t) return;\n",
      "\u001b[0;1;32m           ~~~~~~~~~~~~~~~~~~~~~~~~~~~~~~~~~~~~~ ^  ~~~~~~~~\n",
      "\u001b[0m\u001b[1m./gaussian_cuda_version/gaussian.cu:223:43: \u001b[0m\u001b[0;1;35mwarning: \u001b[0m\u001b[1mcomparison of integers of\n",
      "      different signs: 'unsigned int' and 'int' [-Wsign-compare]\u001b[0m\n",
      "        if(threadIdx.x + blockIdx.x * blockDim.x >= Size-1-t) return;\n",
      "\u001b[0;1;32m           ~~~~~~~~~~~~~~~~~~~~~~~~~~~~~~~~~~~~~ ^  ~~~~~~~~\n",
      "\u001b[0m\u001b[1m./gaussian_cuda_version/gaussian.cu:224:43: \u001b[0m\u001b[0;1;35mwarning: \u001b[0m\u001b[1mcomparison of integers of\n",
      "      different signs: 'unsigned int' and 'int' [-Wsign-compare]\u001b[0m\n",
      "        if(threadIdx.y + blockIdx.y * blockDim.y >= Size-t) return;\n",
      "\u001b[0;1;32m           ~~~~~~~~~~~~~~~~~~~~~~~~~~~~~~~~~~~~~ ^  ~~~~~~\n",
      "\u001b[0m3 warnings generated.\n",
      "+ /root/coriander/bin/patch_hostside --hostrawfile ./gaussian_opencl-hostraw.ll --devicellfile ./gaussian_opencl-device.ll --hostpatchedfile ./gaussian_opencl-hostpatched.ll\n",
      "+ /coriander/coriander/soft/llvm-4.0/bin/clang++ -D_GNU_SOURCE -D__STDC_CONSTANT_MACROS -D__STDC_FORMAT_MACROS -D__STDC_LIMIT_MACROS -fPIC -fvisibility-inlines-hidden -Wall -W -Wno-unused-parameter -Wwrite-strings -Wcast-qual -Wmissing-field-initializers -pedantic -Wno-long-long -Wcovered-switch-default -Wnon-virtual-dtor -Wdelete-non-virtual-dtor -Wstring-conversion -Werror=date-time -std=c++11 -ffunction-sections -fdata-sections -fexceptions -D_GNU_SOURCE -D__STDC_CONSTANT_MACROS -D__STDC_FORMAT_MACROS -D__STDC_LIMIT_MACROS -DUSE_CLEW -O3 -c ./gaussian_opencl-hostpatched.ll -o ./gaussian_opencl.o\n",
      "+ g++ -Wl,-rpath,/root/coriander/lib -Wl,-rpath,3437ORIGIN -o ./gaussian_opencl ./gaussian_opencl.o -L/root/coriander/lib -lcocl -lclblast -leasycl -lclew -lpthread -L/coriander/coriander/soft/llvm-4.0/lib -lLLVMLTO -lLLVMPasses -lLLVMObjCARCOpts -lLLVMMIRParser -lLLVMSymbolize -lLLVMDebugInfoPDB -lLLVMDebugInfoDWARF -lLLVMCoverage -lLLVMTableGen -lLLVMOrcJIT -lLLVMXCoreDisassembler -lLLVMXCoreCodeGen -lLLVMXCoreDesc -lLLVMXCoreInfo -lLLVMXCoreAsmPrinter -lLLVMSystemZDisassembler -lLLVMSystemZCodeGen -lLLVMSystemZAsmParser -lLLVMSystemZDesc -lLLVMSystemZInfo -lLLVMSystemZAsmPrinter -lLLVMSparcDisassembler -lLLVMSparcCodeGen -lLLVMSparcAsmParser -lLLVMSparcDesc -lLLVMSparcInfo -lLLVMSparcAsmPrinter -lLLVMRISCVDesc -lLLVMRISCVCodeGen -lLLVMRISCVInfo -lLLVMPowerPCDisassembler -lLLVMPowerPCCodeGen -lLLVMPowerPCAsmParser -lLLVMPowerPCDesc -lLLVMPowerPCInfo -lLLVMPowerPCAsmPrinter -lLLVMNVPTXCodeGen -lLLVMNVPTXDesc -lLLVMNVPTXInfo -lLLVMNVPTXAsmPrinter -lLLVMMSP430CodeGen -lLLVMMSP430Desc -lLLVMMSP430Info -lLLVMMSP430AsmPrinter -lLLVMMipsDisassembler -lLLVMMipsCodeGen -lLLVMMipsAsmParser -lLLVMMipsDesc -lLLVMMipsInfo -lLLVMMipsAsmPrinter -lLLVMLanaiDisassembler -lLLVMLanaiCodeGen -lLLVMLanaiAsmParser -lLLVMLanaiDesc -lLLVMLanaiInstPrinter -lLLVMLanaiInfo -lLLVMHexagonDisassembler -lLLVMHexagonCodeGen -lLLVMHexagonAsmParser -lLLVMHexagonDesc -lLLVMHexagonInfo -lLLVMBPFDisassembler -lLLVMBPFCodeGen -lLLVMBPFDesc -lLLVMBPFInfo -lLLVMBPFAsmPrinter -lLLVMARMDisassembler -lLLVMARMCodeGen -lLLVMARMAsmParser -lLLVMARMDesc -lLLVMARMInfo -lLLVMARMAsmPrinter -lLLVMAMDGPUDisassembler -lLLVMAMDGPUCodeGen -lLLVMAMDGPUAsmParser -lLLVMAMDGPUDesc -lLLVMAMDGPUInfo -lLLVMAMDGPUAsmPrinter -lLLVMAMDGPUUtils -lLLVMAArch64Disassembler -lLLVMAArch64CodeGen -lLLVMAArch64AsmParser -lLLVMAArch64Desc -lLLVMAArch64Info -lLLVMAArch64AsmPrinter -lLLVMAArch64Utils -lLLVMObjectYAML -lLLVMLibDriver -lLLVMOption -lLLVMX86Disassembler -lLLVMX86AsmParser -lLLVMX86CodeGen -lLLVMGlobalISel -lLLVMSelectionDAG -lLLVMAsmPrinter -lLLVMDebugInfoCodeView -lLLVMDebugInfoMSF -lLLVMX86Desc -lLLVMMCDisassembler -lLLVMX86Info -lLLVMX86AsmPrinter -lLLVMX86Utils -lLLVMMCJIT -lLLVMLineEditor -lLLVMInterpreter -lLLVMExecutionEngine -lLLVMRuntimeDyld -lLLVMCodeGen -lLLVMTarget -lLLVMCoroutines -lLLVMipo -lLLVMInstrumentation -lLLVMVectorize -lLLVMScalarOpts -lLLVMLinker -lLLVMIRReader -lLLVMAsmParser -lLLVMInstCombine -lLLVMTransformUtils -lLLVMBitWriter -lLLVMAnalysis -lLLVMObject -lLLVMMCParser -lLLVMMC -lLLVMBitReader -lLLVMProfileData -lLLVMCore -lLLVMSupport -lLLVMDemangle -lrt -ldl -ltinfo -lpthread -lm\n"
     ]
    }
   ],
   "source": [
    "! $COCL ./gaussian_cuda_version/gaussian.cu -o gaussian_opencl"
   ]
  },
  {
   "cell_type": "markdown",
   "metadata": {},
   "source": [
    "## Functionality test of the OpenCL generated version"
   ]
  },
  {
   "cell_type": "markdown",
   "metadata": {},
   "source": [
    "The code must produce the same results regardless of the compiler and backend before any further evaluation is performed."
   ]
  },
  {
   "cell_type": "code",
   "execution_count": 14,
   "metadata": {},
   "outputs": [
    {
     "name": "stdout",
     "output_type": "stream",
     "text": [
      "Matrix m is: \r\n",
      "    0.00     0.00     0.00     0.00 \r\n",
      "    0.50     0.00     0.00     0.00 \r\n",
      "    0.67     0.26     0.00     0.00 \r\n",
      "   -0.00     0.15    -0.28     0.00 \r\n",
      "\r\n",
      "Matrix a is: \r\n",
      "   -0.60    -0.50     0.70     0.30 \r\n",
      "    0.00    -0.65    -0.05     0.55 \r\n",
      "   -0.00     0.00    -0.75    -1.14 \r\n",
      "    0.00    -0.00     0.00     0.50 \r\n",
      "\r\n",
      "Array b is: \r\n",
      "-0.85 -0.25 0.87 -0.25 \r\n",
      "\r\n",
      "The final solution is: \r\n",
      "0.70 0.00 -0.40 -0.50 \r\n",
      "\r\n",
      "\r\n",
      "Time total (including memory transfers)\t0.391966 sec\r\n",
      "Time for CUDA kernels:\t0.000064 sec\r\n"
     ]
    }
   ],
   "source": [
    "! ./gaussian_cuda ./matrix4.txt"
   ]
  },
  {
   "cell_type": "code",
   "execution_count": 34,
   "metadata": {},
   "outputs": [
    {
     "name": "stdout",
     "output_type": "stream",
     "text": [
      "Cannot choose gpu device more than 0\r\n",
      "terminate called after throwing an instance of 'std::runtime_error'\r\n",
      "  what():  gpu device ordinal beyond range of number of gpus\r\n",
      "Aborted (core dumped)\r\n"
     ]
    }
   ],
   "source": [
    "! ./gaussian_opencl ./matrix4.txt"
   ]
  },
  {
   "cell_type": "markdown",
   "metadata": {},
   "source": [
    "## Functionality test of the generated vs hand-coded versions"
   ]
  },
  {
   "cell_type": "markdown",
   "metadata": {},
   "source": [
    "Next, we test for the same functionality against a manually written version."
   ]
  },
  {
   "cell_type": "markdown",
   "metadata": {},
   "source": [
    "### Compile the hand-coded version"
   ]
  },
  {
   "cell_type": "code",
   "execution_count": 27,
   "metadata": {},
   "outputs": [
    {
     "name": "stdout",
     "output_type": "stream",
     "text": [
      "\u001b[01m\u001b[Kclutils.cpp:\u001b[m\u001b[K In function '\u001b[01m\u001b[K_cl_context* cl_init(char)\u001b[m\u001b[K':\r\n",
      "\u001b[01m\u001b[Kclutils.cpp:223:24:\u001b[m\u001b[K \u001b[01;35m\u001b[Kwarning: \u001b[m\u001b[K'\u001b[01m\u001b[K_cl_command_queue* clCreateCommandQueue(cl_context, cl_device_id, cl_command_queue_properties, cl_int*)\u001b[m\u001b[K' is deprecated [-Wdeprecated-declarations]\r\n",
      "     commandQueueProf = clCreateCommandQueue(context, device, \r\n",
      "\u001b[01;32m\u001b[K                        ^\u001b[m\u001b[K\r\n",
      "In file included from \u001b[01m\u001b[Kclutils.cpp:57:0\u001b[m\u001b[K:\r\n",
      "\u001b[01m\u001b[K/usr/include/CL/cl.h:1359:1:\u001b[m\u001b[K \u001b[01;36m\u001b[Knote: \u001b[m\u001b[Kdeclared here\r\n",
      " clCreateCommandQueue(cl_context                     /* context */,\r\n",
      "\u001b[01;32m\u001b[K ^\u001b[m\u001b[K\r\n",
      "\u001b[01m\u001b[Kclutils.cpp:223:24:\u001b[m\u001b[K \u001b[01;35m\u001b[Kwarning: \u001b[m\u001b[K'\u001b[01m\u001b[K_cl_command_queue* clCreateCommandQueue(cl_context, cl_device_id, cl_command_queue_properties, cl_int*)\u001b[m\u001b[K' is deprecated [-Wdeprecated-declarations]\r\n",
      "     commandQueueProf = clCreateCommandQueue(context, device, \r\n",
      "\u001b[01;32m\u001b[K                        ^\u001b[m\u001b[K\r\n",
      "In file included from \u001b[01m\u001b[Kclutils.cpp:57:0\u001b[m\u001b[K:\r\n",
      "\u001b[01m\u001b[K/usr/include/CL/cl.h:1359:1:\u001b[m\u001b[K \u001b[01;36m\u001b[Knote: \u001b[m\u001b[Kdeclared here\r\n",
      " clCreateCommandQueue(cl_context                     /* context */,\r\n",
      "\u001b[01;32m\u001b[K ^\u001b[m\u001b[K\r\n",
      "\u001b[01m\u001b[Kclutils.cpp:224:63:\u001b[m\u001b[K \u001b[01;35m\u001b[Kwarning: \u001b[m\u001b[K'\u001b[01m\u001b[K_cl_command_queue* clCreateCommandQueue(cl_context, cl_device_id, cl_command_queue_properties, cl_int*)\u001b[m\u001b[K' is deprecated [-Wdeprecated-declarations]\r\n",
      "                             CL_QUEUE_PROFILING_ENABLE, &status);\r\n",
      "\u001b[01;32m\u001b[K                                                               ^\u001b[m\u001b[K\r\n",
      "In file included from \u001b[01m\u001b[Kclutils.cpp:57:0\u001b[m\u001b[K:\r\n",
      "\u001b[01m\u001b[K/usr/include/CL/cl.h:1359:1:\u001b[m\u001b[K \u001b[01;36m\u001b[Knote: \u001b[m\u001b[Kdeclared here\r\n",
      " clCreateCommandQueue(cl_context                     /* context */,\r\n",
      "\u001b[01;32m\u001b[K ^\u001b[m\u001b[K\r\n",
      "\u001b[01m\u001b[Kclutils.cpp:227:26:\u001b[m\u001b[K \u001b[01;35m\u001b[Kwarning: \u001b[m\u001b[K'\u001b[01m\u001b[K_cl_command_queue* clCreateCommandQueue(cl_context, cl_device_id, cl_command_queue_properties, cl_int*)\u001b[m\u001b[K' is deprecated [-Wdeprecated-declarations]\r\n",
      "     commandQueueNoProf = clCreateCommandQueue(context, device, 0, &status);\r\n",
      "\u001b[01;32m\u001b[K                          ^\u001b[m\u001b[K\r\n",
      "In file included from \u001b[01m\u001b[Kclutils.cpp:57:0\u001b[m\u001b[K:\r\n",
      "\u001b[01m\u001b[K/usr/include/CL/cl.h:1359:1:\u001b[m\u001b[K \u001b[01;36m\u001b[Knote: \u001b[m\u001b[Kdeclared here\r\n",
      " clCreateCommandQueue(cl_context                     /* context */,\r\n",
      "\u001b[01;32m\u001b[K ^\u001b[m\u001b[K\r\n",
      "\u001b[01m\u001b[Kclutils.cpp:227:26:\u001b[m\u001b[K \u001b[01;35m\u001b[Kwarning: \u001b[m\u001b[K'\u001b[01m\u001b[K_cl_command_queue* clCreateCommandQueue(cl_context, cl_device_id, cl_command_queue_properties, cl_int*)\u001b[m\u001b[K' is deprecated [-Wdeprecated-declarations]\r\n",
      "     commandQueueNoProf = clCreateCommandQueue(context, device, 0, &status);\r\n",
      "\u001b[01;32m\u001b[K                          ^\u001b[m\u001b[K\r\n",
      "In file included from \u001b[01m\u001b[Kclutils.cpp:57:0\u001b[m\u001b[K:\r\n",
      "\u001b[01m\u001b[K/usr/include/CL/cl.h:1359:1:\u001b[m\u001b[K \u001b[01;36m\u001b[Knote: \u001b[m\u001b[Kdeclared here\r\n",
      " clCreateCommandQueue(cl_context                     /* context */,\r\n",
      "\u001b[01;32m\u001b[K ^\u001b[m\u001b[K\r\n",
      "\u001b[01m\u001b[Kclutils.cpp:227:74:\u001b[m\u001b[K \u001b[01;35m\u001b[Kwarning: \u001b[m\u001b[K'\u001b[01m\u001b[K_cl_command_queue* clCreateCommandQueue(cl_context, cl_device_id, cl_command_queue_properties, cl_int*)\u001b[m\u001b[K' is deprecated [-Wdeprecated-declarations]\r\n",
      "     commandQueueNoProf = clCreateCommandQueue(context, device, 0, &status);\r\n",
      "\u001b[01;32m\u001b[K                                                                          ^\u001b[m\u001b[K\r\n",
      "In file included from \u001b[01m\u001b[Kclutils.cpp:57:0\u001b[m\u001b[K:\r\n",
      "\u001b[01m\u001b[K/usr/include/CL/cl.h:1359:1:\u001b[m\u001b[K \u001b[01;36m\u001b[Knote: \u001b[m\u001b[Kdeclared here\r\n",
      " clCreateCommandQueue(cl_context                     /* context */,\r\n",
      "\u001b[01;32m\u001b[K ^\u001b[m\u001b[K\r\n",
      "\u001b[01m\u001b[Kclutils.cpp:\u001b[m\u001b[K In function '\u001b[01m\u001b[K_cl_context* cl_init_context(int, int, int)\u001b[m\u001b[K':\r\n",
      "\u001b[01m\u001b[Kclutils.cpp:379:17:\u001b[m\u001b[K \u001b[01;35m\u001b[Kwarning: \u001b[m\u001b[K'\u001b[01m\u001b[K_cl_command_queue* clCreateCommandQueue(cl_context, cl_device_id, cl_command_queue_properties, cl_int*)\u001b[m\u001b[K' is deprecated [-Wdeprecated-declarations]\r\n",
      "  commandQueue = clCreateCommandQueue(context,\r\n",
      "\u001b[01;32m\u001b[K                 ^\u001b[m\u001b[K\r\n",
      "In file included from \u001b[01m\u001b[Kclutils.cpp:57:0\u001b[m\u001b[K:\r\n",
      "\u001b[01m\u001b[K/usr/include/CL/cl.h:1359:1:\u001b[m\u001b[K \u001b[01;36m\u001b[Knote: \u001b[m\u001b[Kdeclared here\r\n",
      " clCreateCommandQueue(cl_context                     /* context */,\r\n",
      "\u001b[01;32m\u001b[K ^\u001b[m\u001b[K\r\n",
      "\u001b[01m\u001b[Kclutils.cpp:379:17:\u001b[m\u001b[K \u001b[01;35m\u001b[Kwarning: \u001b[m\u001b[K'\u001b[01m\u001b[K_cl_command_queue* clCreateCommandQueue(cl_context, cl_device_id, cl_command_queue_properties, cl_int*)\u001b[m\u001b[K' is deprecated [-Wdeprecated-declarations]\r\n",
      "  commandQueue = clCreateCommandQueue(context,\r\n",
      "\u001b[01;32m\u001b[K                 ^\u001b[m\u001b[K\r\n",
      "In file included from \u001b[01m\u001b[Kclutils.cpp:57:0\u001b[m\u001b[K:\r\n",
      "\u001b[01m\u001b[K/usr/include/CL/cl.h:1359:1:\u001b[m\u001b[K \u001b[01;36m\u001b[Knote: \u001b[m\u001b[Kdeclared here\r\n",
      " clCreateCommandQueue(cl_context                     /* context */,\r\n",
      "\u001b[01;32m\u001b[K ^\u001b[m\u001b[K\r\n",
      "\u001b[01m\u001b[Kclutils.cpp:380:64:\u001b[m\u001b[K \u001b[01;35m\u001b[Kwarning: \u001b[m\u001b[K'\u001b[01m\u001b[K_cl_command_queue* clCreateCommandQueue(cl_context, cl_device_id, cl_command_queue_properties, cl_int*)\u001b[m\u001b[K' is deprecated [-Wdeprecated-declarations]\r\n",
      "       devices[device_touse], CL_QUEUE_PROFILING_ENABLE, &status);\r\n",
      "\u001b[01;32m\u001b[K                                                                ^\u001b[m\u001b[K\r\n",
      "In file included from \u001b[01m\u001b[Kclutils.cpp:57:0\u001b[m\u001b[K:\r\n",
      "\u001b[01m\u001b[K/usr/include/CL/cl.h:1359:1:\u001b[m\u001b[K \u001b[01;36m\u001b[Knote: \u001b[m\u001b[Kdeclared here\r\n",
      " clCreateCommandQueue(cl_context                     /* context */,\r\n",
      "\u001b[01;32m\u001b[K ^\u001b[m\u001b[K\r\n",
      "\u001b[01m\u001b[Kclutils.cpp:\u001b[m\u001b[K In function '\u001b[01m\u001b[K_cl_mem* cl_allocImage(size_t, size_t, char, cl_mem_flags)\u001b[m\u001b[K':\r\n",
      "\u001b[01m\u001b[Kclutils.cpp:589:11:\u001b[m\u001b[K \u001b[01;35m\u001b[Kwarning: \u001b[m\u001b[K'\u001b[01m\u001b[K_cl_mem* clCreateImage2D(cl_context, cl_mem_flags, const cl_image_format*, size_t, size_t, size_t, void*, cl_int*)\u001b[m\u001b[K' is deprecated [-Wdeprecated-declarations]\r\n",
      "     mem = clCreateImage2D(context, flags, &format, width, height, 0, NULL, &sta\r\n",
      "\u001b[01;32m\u001b[K           ^\u001b[m\u001b[K\r\n",
      "In file included from \u001b[01m\u001b[Kclutils.cpp:57:0\u001b[m\u001b[K:\r\n",
      "\u001b[01m\u001b[K/usr/include/CL/cl.h:1318:1:\u001b[m\u001b[K \u001b[01;36m\u001b[Knote: \u001b[m\u001b[Kdeclared here\r\n",
      " clCreateImage2D(cl_context              /* context */,\r\n",
      "\u001b[01;32m\u001b[K ^\u001b[m\u001b[K\r\n",
      "\u001b[01m\u001b[Kclutils.cpp:589:11:\u001b[m\u001b[K \u001b[01;35m\u001b[Kwarning: \u001b[m\u001b[K'\u001b[01m\u001b[K_cl_mem* clCreateImage2D(cl_context, cl_mem_flags, const cl_image_format*, size_t, size_t, size_t, void*, cl_int*)\u001b[m\u001b[K' is deprecated [-Wdeprecated-declarations]\r\n",
      "     mem = clCreateImage2D(context, flags, &format, width, height, 0, NULL, &sta\r\n",
      "\u001b[01;32m\u001b[K           ^\u001b[m\u001b[K\r\n",
      "In file included from \u001b[01m\u001b[Kclutils.cpp:57:0\u001b[m\u001b[K:\r\n",
      "\u001b[01m\u001b[K/usr/include/CL/cl.h:1318:1:\u001b[m\u001b[K \u001b[01;36m\u001b[Knote: \u001b[m\u001b[Kdeclared here\r\n",
      " clCreateImage2D(cl_context              /* context */,\r\n",
      "\u001b[01;32m\u001b[K ^\u001b[m\u001b[K\r\n",
      "\u001b[01m\u001b[Kclutils.cpp:589:83:\u001b[m\u001b[K \u001b[01;35m\u001b[Kwarning: \u001b[m\u001b[K'\u001b[01m\u001b[K_cl_mem* clCreateImage2D(cl_context, cl_mem_flags, const cl_image_format*, size_t, size_t, size_t, void*, cl_int*)\u001b[m\u001b[K' is deprecated [-Wdeprecated-declarations]\r\n",
      " em = clCreateImage2D(context, flags, &format, width, height, 0, NULL, &status);\r\n",
      "\u001b[01;32m\u001b[K                                                                              ^\u001b[m\u001b[K\r\n",
      "In file included from \u001b[01m\u001b[Kclutils.cpp:57:0\u001b[m\u001b[K:\r\n",
      "\u001b[01m\u001b[K/usr/include/CL/cl.h:1318:1:\u001b[m\u001b[K \u001b[01;36m\u001b[Knote: \u001b[m\u001b[Kdeclared here\r\n",
      " clCreateImage2D(cl_context              /* context */,\r\n",
      "\u001b[01;32m\u001b[K ^\u001b[m\u001b[K\r\n",
      "\u001b[01m\u001b[Kclutils.cpp:\u001b[m\u001b[K In function '\u001b[01m\u001b[Kvoid cl_copyBufferToImage(cl_mem, cl_mem, int, int)\u001b[m\u001b[K':\r\n",
      "\u001b[01m\u001b[Kclutils.cpp:671:41:\u001b[m\u001b[K \u001b[01;35m\u001b[Kwarning: \u001b[m\u001b[Knarrowing conversion of '\u001b[01m\u001b[Kwidth\u001b[m\u001b[K' from '\u001b[01m\u001b[Kint\u001b[m\u001b[K' to '\u001b[01m\u001b[Ksize_t {aka long unsigned int}\u001b[m\u001b[K' inside { } [-Wnarrowing]\r\n",
      "     size_t region[3] = {width, height, 1};\r\n",
      "\u001b[01;32m\u001b[K                                         ^\u001b[m\u001b[K\r\n",
      "\u001b[01m\u001b[Kclutils.cpp:671:41:\u001b[m\u001b[K \u001b[01;35m\u001b[Kwarning: \u001b[m\u001b[Knarrowing conversion of '\u001b[01m\u001b[Kheight\u001b[m\u001b[K' from '\u001b[01m\u001b[Kint\u001b[m\u001b[K' to '\u001b[01m\u001b[Ksize_t {aka long unsigned int}\u001b[m\u001b[K' inside { } [-Wnarrowing]\r\n"
     ]
    }
   ],
   "source": [
    "!cd gaussian_opencl_version/ && g++ gaussianElim.cpp  clutils.cpp utils.cpp -lOpenCL -std=c++11 -o gaussian_hand_opencl && cd ..\n",
    "!mv gaussian_opencl_version/gaussian_hand_opencl . && cp gaussian_opencl_version/gaussianElim_kernels.cl ."
   ]
  },
  {
   "cell_type": "code",
   "execution_count": 30,
   "metadata": {
    "scrolled": true
   },
   "outputs": [
    {
     "name": "stdout",
     "output_type": "stream",
     "text": [
      "Using Platform 0 \t Device No 0 \n",
      "Creating CPU Context\n",
      "\n",
      "\tgaussianElim_kernels.cl\n",
      "The result of matrix m is: \n",
      "    0.00     0.00     0.00     0.00 \n",
      "    0.50     0.00     0.00     0.00 \n",
      "    0.67     0.26     0.00     0.00 \n",
      "   -0.00     0.15    -0.28     0.00 \n",
      "\n",
      "The result of matrix a is: \n",
      "   -0.60    -0.50     0.70     0.30 \n",
      "    0.00    -0.65    -0.05     0.55 \n",
      "   -0.00     0.00    -0.75    -1.14 \n",
      "    0.00    -0.00     0.00     0.50 \n",
      "\n",
      "The result of array b is: \n",
      "-0.85 -0.25 0.87 -0.25 \n",
      "\n",
      "The final solution is: \n",
      "0.70 0.00 -0.40 -0.50 \n",
      "\n"
     ]
    }
   ],
   "source": [
    "! ./gaussian_hand_opencl ./matrix4.txt -p 0 -d 0"
   ]
  },
  {
   "cell_type": "markdown",
   "metadata": {},
   "source": [
    "## Run-time  Comparison between all 3"
   ]
  },
  {
   "cell_type": "markdown",
   "metadata": {},
   "source": [
    "## AIWC feature-space comparison between the generated and hand-coded version"
   ]
  },
  {
   "cell_type": "markdown",
   "metadata": {},
   "source": [
    "Here they should be similar enough to show that AIWC and it's OpenCL back-end is suitable for language agnostic architecture-independent workload characterization"
   ]
  },
  {
   "cell_type": "code",
   "execution_count": null,
   "metadata": {},
   "outputs": [],
   "source": [
    " -p 0 -d 0 matrix4.txt"
   ]
  }
 ],
 "metadata": {
  "kernelspec": {
   "display_name": "Python 3",
   "language": "python",
   "name": "python3"
  },
  "language_info": {
   "codemirror_mode": {
    "name": "ipython",
    "version": 3
   },
   "file_extension": ".py",
   "mimetype": "text/x-python",
   "name": "python",
   "nbconvert_exporter": "python",
   "pygments_lexer": "ipython3",
   "version": "3.5.2"
  },
  "toc": {
   "base_numbering": 1,
   "nav_menu": {},
   "number_sections": false,
   "sideBar": false,
   "skip_h1_title": false,
   "title_cell": "Table of Contents",
   "title_sidebar": "Contents",
   "toc_cell": false,
   "toc_position": {},
   "toc_section_display": false,
   "toc_window_display": false
  }
 },
 "nbformat": 4,
 "nbformat_minor": 2
}
